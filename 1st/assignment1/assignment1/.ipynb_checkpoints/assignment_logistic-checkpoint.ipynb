{
 "cells": [
  {
   "cell_type": "markdown",
   "metadata": {},
   "source": [
    "# ECE 176 Assignment 1: Logistic Regression\n",
    "\n",
    "For this part of assignment, you are tasked to implement a logistic regression algorithm and test it on the a subset of CIFAR10 dataset.\n",
    "\n",
    "You sould run the whole notebook and answer the questions in the notebook."
   ]
  },
  {
   "cell_type": "code",
   "execution_count": null,
   "metadata": {
    "scrolled": true
   },
   "outputs": [],
   "source": [
    "# Common data processing modules as KNN\n",
    "\n",
    "# Prepare Packages\n",
    "import numpy as np\n",
    "import matplotlib.pyplot as plt\n",
    "\n",
    "from data_processing import get_cifar10_data\n",
    "\n",
    "# Use a subset of CIFAR10 for KNN assignments\n",
    "dataset = get_cifar10_data(\n",
    "    subset_train = 5000,\n",
    "    subset_val = 250,\n",
    "    subset_test = 500\n",
    ")\n",
    "\n",
    "print(dataset.keys())\n",
    "print(\"Training Set Data  Shape: \", dataset['x_train'].shape)\n",
    "print(\"Training Set Label Shape: \", dataset['y_train'].shape)"
   ]
  },
  {
   "cell_type": "markdown",
   "metadata": {},
   "source": [
    "# Logistic Regression for multi-class classification"
   ]
  },
  {
   "cell_type": "markdown",
   "metadata": {},
   "source": [
    "A Logistic Regression Algorithm has 2 hyperparameters that you can experiment with:\n",
    "- **Learning rate** - controls how much we change the current weights of the classifier during each update. We set it at a default value of 0.5, but you should experiment with different values. We recommend changing the learning rate by factors of 10 and observing how the performance of the classifier changes. You could also try adding a **decay** which slowly reduces the learning rate over each epoch.\n",
    "- **Number of Epochs** - An epoch is a complete iterative pass over all of the data in the dataset. During an epoch we predict a label using the classifier and then update the weights of the classifier according the linear classifier update rule for each sample in the training set. You should try different values for the number of training epochs and report your results."
   ]
  },
  {
   "cell_type": "markdown",
   "metadata": {},
   "source": [
    "You need to implement the Linear Regression method in ```algorithms/logostic_regression.py```. You need to fill in the sigmoid function, training function as well as the prediction function."
   ]
  },
  {
   "cell_type": "code",
   "execution_count": null,
   "metadata": {},
   "outputs": [],
   "source": [
    "from algorithms import Logistic\n",
    "num_classes = 10 #Cifar10 dataset has 10 different classes\n",
    "\n",
    "# Initialize hyper-parameters\n",
    "learning_rate = 0.5\n",
    "num_epochs = 100\n",
    "\n",
    "logistic_regression = Logistic(num_classes, learning_rate, num_epochs)\n",
    "\n",
    "#Train the classifier\n",
    "logistic_regression.train(x_train, y_train)"
   ]
  },
  {
   "cell_type": "code",
   "execution_count": null,
   "metadata": {},
   "outputs": [],
   "source": [
    "# Import the algorithm implementation (TODO: Complete the Linear Regression in algorithms/linear_regression.py)\n",
    "from algorithms import Logistic\n",
    "from evaluation import get_classification_accuracy\n",
    "num_classes = 10 #Cifar10 dataset has 10 different classes\n",
    "\n",
    "train_accuracies, val_accuracies, test_accuracies = [], [], []\n",
    "\n",
    "# Initialize hyper-parameters\n",
    "learning_rate = 0.5 # You will be later asked to experiment with different learning rates and report results\n",
    "num_epochs_total = 100 # Total number of epochs to train the classifier\n",
    "epochs_per_evaluation = 10 # Epochs per step of evaluation; We will evaluate our model regularly during training\n",
    "N, D = dataset['x_train'].shape # Get training data shape, N: Number of examples, D:Dimensionality of the data\n",
    "\n",
    "# Create a linear regression object \n",
    "logistic_regression = Logistic(learning_rate, epochs_per_evaluation)\n",
    "\n",
    "# Randomly initialize the weights and biases\n",
    "#weights = np.random.randn(num_classes, D) * 0.0001\n",
    "self.w = np.random.randn((D+1)\n",
    "\n",
    "\n",
    "#Train the classifier\n",
    "for _ in range(int(num_epochs_total/epochs_per_evaluation)):\n",
    "    # Train the classifier on the training data\n",
    "    weights = logistic_regression.train(dataset['x_train'], dataset['y_train'], weights)\n",
    "    \n",
    "    \n",
    "    # Evaluate the trained classifier on the training dataset\n",
    "    y_pred_train = logistic_regression.predict(dataset['x_train'])\n",
    "    train_accuracies.append(get_classification_accuracy(y_pred_train, dataset['y_train']))\n",
    "    \n",
    "    # Evaluate the trained classifier on the validation dataset\n",
    "    y_pred_val = logistic_regression.predict(dataset['x_val'])\n",
    "    val_accuracies.append(get_classification_accuracy(y_pred_val, dataset['y_val']))\n",
    "    \n",
    "    # Evaluate the trained classifier on the test dataset\n",
    "    y_pred_test = logistic_regression.predict(dataset['x_test'])\n",
    "    test_accuracies.append(get_classification_accuracy(y_pred_test, dataset['y_test']))"
   ]
  },
  {
   "cell_type": "code",
   "execution_count": null,
   "metadata": {},
   "outputs": [],
   "source": [
    "from evaluation import get_classification_accuracy\n",
    "\n",
    "#Predict/Test the trained classifier on the training dataset\n",
    "y_pred_train = logistic_regression.predict(x_train)\n",
    "print('The training accuracy is given by: %f' % (get_classification_accuracy(y_pred_train, y_train)))"
   ]
  },
  {
   "cell_type": "markdown",
   "metadata": {},
   "source": [
    "### Validate Logistic Regression Classifier on CIFAR validation set"
   ]
  },
  {
   "cell_type": "code",
   "execution_count": null,
   "metadata": {},
   "outputs": [],
   "source": [
    "#Predict/Test the trained classifier on the validation dataset\n",
    "y_pred_val = logistic_regression.predict(x_val)\n",
    "print('The validation set accuracy is given by: %f' % (get_classification_accuracy(y_pred_val, y_val)))"
   ]
  },
  {
   "cell_type": "markdown",
   "metadata": {},
   "source": [
    "### Test Logistic Regression Classifier on the CIFAR test set"
   ]
  },
  {
   "cell_type": "code",
   "execution_count": null,
   "metadata": {},
   "outputs": [],
   "source": [
    "#Predict/Test the trained classifier on the test dataset\n",
    "y_pred_test = logistic_regression.predict(x_test)\n",
    "print('The test set accuracy is given by: %f' % (get_classification_accuracy(y_pred_test, y_test)))"
   ]
  }
 ],
 "metadata": {
  "kernelspec": {
   "display_name": "Python 3",
   "language": "python",
   "name": "python3"
  },
  "language_info": {
   "codemirror_mode": {
    "name": "ipython",
    "version": 3
   },
   "file_extension": ".py",
   "mimetype": "text/x-python",
   "name": "python",
   "nbconvert_exporter": "python",
   "pygments_lexer": "ipython3",
   "version": "3.8.5"
  }
 },
 "nbformat": 4,
 "nbformat_minor": 4
}
