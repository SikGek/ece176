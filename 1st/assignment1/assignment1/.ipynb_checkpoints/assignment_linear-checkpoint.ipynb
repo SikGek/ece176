{
 "cells": [
  {
   "cell_type": "markdown",
   "metadata": {},
   "source": [
    "# ECE 176 Assignment 1: Linear Regression\n",
    "\n",
    "For this part of assignment, you are tasked to implement a linear regression algorithm and test it on the a subset of CIFAR10 dataset.\n",
    "\n",
    "You sould run the whole notebook and answer the questions in the notebook."
   ]
  },
  {
   "cell_type": "code",
   "execution_count": 1,
   "metadata": {
    "scrolled": true
   },
   "outputs": [
    {
     "name": "stdout",
     "output_type": "stream",
     "text": [
      "dict_keys(['x_train', 'y_train', 'x_val', 'y_val', 'x_test', 'y_test'])\n",
      "Training Set Data  Shape:  (5000, 3072)\n",
      "Training Set Label Shape:  (5000,)\n"
     ]
    }
   ],
   "source": [
    "# Prepare Packages\n",
    "import numpy as np\n",
    "import matplotlib.pyplot as plt\n",
    "\n",
    "from data_processing import get_cifar10_data\n",
    "\n",
    "# Use a subset of CIFAR10 for KNN assignments\n",
    "dataset = get_cifar10_data(\n",
    "    subset_train = 5000,\n",
    "    subset_val = 250,\n",
    "    subset_test = 500\n",
    ")\n",
    "\n",
    "print(dataset.keys())\n",
    "print(\"Training Set Data  Shape: \", dataset['x_train'].shape)\n",
    "print(\"Training Set Label Shape: \", dataset['y_train'].shape)"
   ]
  },
  {
   "cell_type": "markdown",
   "metadata": {},
   "source": [
    "# Linear Regression for multi-class classification"
   ]
  },
  {
   "cell_type": "markdown",
   "metadata": {},
   "source": [
    "A Linear Regression Algorithm has 2 hyperparameters that you can experiment with:\n",
    "- **Learning rate** - controls how much we change the current weights of the classifier during each update. We set it at a default value of 0.5, but you should experiment with different values. We recommend changing the learning rate by factors of 10 and observing how the performance of the classifier changes. You could also try adding a **decay** which slowly reduces the learning rate over each epoch.\n",
    "- **Number of Epochs** - An epoch is a complete iterative pass over all of the data in the dataset. During an epoch we predict a label using the classifier and then update the weights of the classifier according the linear classifier update rule for each sample in the training set. You should try different values for the number of training epochs and report your results."
   ]
  },
  {
   "cell_type": "markdown",
   "metadata": {},
   "source": [
    "You need to implement the Linear Regression method in ```algorithms/linear_regression.py```. You need to fill in the training function as well as the prediction function."
   ]
  },
  {
   "cell_type": "code",
   "execution_count": 22,
   "metadata": {},
   "outputs": [],
   "source": [
    "# Import the algorithm implementation (TODO: Complete the Linear Regression in algorithms/linear_regression.py)\n",
    "from algorithms import Linear\n",
    "from evaluation import get_classification_accuracy\n",
    "num_classes = 10 #Cifar10 dataset has 10 different classes\n",
    "\n",
    "train_accuracies, val_accuracies, test_accuracies = [], [], []\n",
    "\n",
    "# Initialize hyper-parameters\n",
    "learning_rate = 0.5 # You will be later asked to experiment with different learning rates and report results\n",
    "num_epochs_total = 1000 # Total number of epochs to train the classifier\n",
    "epochs_per_evaluation = 10 # Epochs per step of evaluation; We will evaluate our model regularly during training\n",
    "N, D = x_train.shape # Get training data shape, N: Number of examples, D:Dimensionality of the data\n",
    "\n",
    "# Create a linear regression object \n",
    "linear_regression = Linear(num_classes, learning_rate, epochs_per_evaluation)\n",
    "\n",
    "# Randomly initialize the weights\n",
    "weights = np.random.randn(num_classes, D)\n",
    "\n",
    "\n",
    "#Train the classifier\n",
    "for _ in range(int(num_epochs_total/epochs_per_evaluation)):\n",
    "    # Train the classifier on the training data\n",
    "    weights = linear_regression.train(dataset['x_train'], dataset['y_train'], weights)\n",
    "    \n",
    "    \n",
    "    # Evaluate the trained classifier on the training dataset\n",
    "    y_pred_train = linear_regression.predict(dataset['x_train'])\n",
    "    train_accuracies.append(get_classification_accuracy(y_pred_train, dataset['y_train']))\n",
    "    \n",
    "    # Evaluate the trained classifier on the validation dataset\n",
    "    y_pred_val = linear_regression.predict(dataset['x_val'])\n",
    "    val_accuracies.append(get_classification_accuracy(y_pred_val, dataset['y_val']))\n",
    "    \n",
    "    # Evaluate the trained classifier on the test dataset\n",
    "    y_pred_test = linear_regression.predict(dataset['x_test'])\n",
    "    test_accuracies.append(get_classification_accuracy(y_pred_test, dataset['y_test']))"
   ]
  },
  {
   "cell_type": "code",
   "execution_count": 23,
   "metadata": {},
   "outputs": [
    {
     "data": {
      "image/png": "[encoded data removed]",
      "text/plain": [
       "<Figure size 432x288 with 1 Axes>"
      ]
     },
     "metadata": {
      "needs_background": "light"
     },
     "output_type": "display_data"
    }
   ],
   "source": [
    "import matplotlib.pyplot as plt\n",
    "\n",
    "# Plot Accuracies vs Epochs graph for all the three\n",
    "cycles = np.arange(0, int(num_epochs_total/epochs_per_evaluation))\n",
    "plt.ylabel(\"Accuracy\")\n",
    "plt.xlabel(\"Epoch\")\n",
    "plt.plot(cycles, train_accuracies, cycles, val_accuracies, cycles, test_accuracies)\n",
    "plt.legend(['Training', 'Validation', 'Testing'])\n",
    "plt.show()\n"
   ]
  },
  {
   "cell_type": "code",
   "execution_count": null,
   "metadata": {},
   "outputs": [],
   "source": [
    "Try different learning rates and plot graphs for all"
   ]
  },
  {
   "cell_type": "markdown",
   "metadata": {},
   "source": [
    "### Regularization"
   ]
  },
  {
   "cell_type": "code",
   "execution_count": null,
   "metadata": {},
   "outputs": [],
   "source": []
  },
  {
   "cell_type": "markdown",
   "metadata": {},
   "source": [
    "### Visualize the filters"
   ]
  },
  {
   "cell_type": "code",
   "execution_count": 35,
   "metadata": {},
   "outputs": [
    {
     "name": "stderr",
     "output_type": "stream",
     "text": [
      "Clipping input data to the valid range for imshow with RGB data ([0..1] for floats or [0..255] for integers).\n",
      "Clipping input data to the valid range for imshow with RGB data ([0..1] for floats or [0..255] for integers).\n",
      "Clipping input data to the valid range for imshow with RGB data ([0..1] for floats or [0..255] for integers).\n",
      "Clipping input data to the valid range for imshow with RGB data ([0..1] for floats or [0..255] for integers).\n",
      "Clipping input data to the valid range for imshow with RGB data ([0..1] for floats or [0..255] for integers).\n",
      "Clipping input data to the valid range for imshow with RGB data ([0..1] for floats or [0..255] for integers).\n",
      "Clipping input data to the valid range for imshow with RGB data ([0..1] for floats or [0..255] for integers).\n",
      "Clipping input data to the valid range for imshow with RGB data ([0..1] for floats or [0..255] for integers).\n",
      "Clipping input data to the valid range for imshow with RGB data ([0..1] for floats or [0..255] for integers).\n",
      "Clipping input data to the valid range for imshow with RGB data ([0..1] for floats or [0..255] for integers).\n"
     ]
    },
    {
     "data": {
      "image/png": "[encoded data removed]",
      "text/plain": [
       "<Figure size 432x288 with 1 Axes>"
      ]
     },
     "metadata": {
      "needs_background": "light"
     },
     "output_type": "display_data"
    }
   ],
   "source": [
    "weights = weights.reshape(10, 32, 32, 3)\n",
    "\n",
    "for filters in range(num_classes):\n",
    "    image = weights[filters]\n",
    "    image *= (255.0/image.max())\n",
    "    #print(image)\n",
    "    plt.imshow(image)"
   ]
  },
  {
   "cell_type": "code",
   "execution_count": null,
   "metadata": {},
   "outputs": [],
   "source": [
    "1. Different learning rates\n",
    "2. Graphs for val, test, train together\n",
    "3. Regularization\n",
    "4. Visualize the filters\n",
    "5. Give optimal lr"
   ]
  }
 ],
 "metadata": {
  "kernelspec": {
   "display_name": "Python 3",
   "language": "python",
   "name": "python3"
  },
  "language_info": {
   "codemirror_mode": {
    "name": "ipython",
    "version": 3
   },
   "file_extension": ".py",
   "mimetype": "text/x-python",
   "name": "python",
   "nbconvert_exporter": "python",
   "pygments_lexer": "ipython3",
   "version": "3.8.5"
  }
 },
 "nbformat": 4,
 "nbformat_minor": 4
}
